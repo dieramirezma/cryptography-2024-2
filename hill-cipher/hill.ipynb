{
 "cells": [
  {
   "cell_type": "code",
   "execution_count": 1,
   "metadata": {},
   "outputs": [],
   "source": [
    "import numpy as np"
   ]
  },
  {
   "cell_type": "code",
   "execution_count": 2,
   "metadata": {},
   "outputs": [],
   "source": [
    "alphabet = \"ABCDEFGHIJKLMNOPQRSTUVWXYZ\""
   ]
  },
  {
   "cell_type": "code",
   "execution_count": 3,
   "metadata": {},
   "outputs": [],
   "source": [
    "def getMatrix():\n",
    "    n = int(input(\"Enter the size of the matrix: \"))\n",
    "    matrix = []\n",
    "    for i in range(n):\n",
    "        row = list(map(int, input(f\"Input row {i} space separated: \").split()))\n",
    "        matrix.append(row)\n",
    "    return np.array(matrix)"
   ]
  },
  {
   "cell_type": "code",
   "execution_count": 4,
   "metadata": {},
   "outputs": [],
   "source": [
    "def getValues(type):\n",
    "    print(\"Input the key matrix: \")\n",
    "    key = getMatrix()\n",
    "    message = input(f\"Enter the {type} text: \").upper().replace(\" \", \"\")\n",
    "\n",
    "    return (message, key)"
   ]
  },
  {
   "cell_type": "code",
   "execution_count": 5,
   "metadata": {},
   "outputs": [],
   "source": [
    "def getMatrixDeterminant(m: list) -> int:\n",
    "    return int(np.linalg.det(m))"
   ]
  },
  {
   "cell_type": "code",
   "execution_count": 6,
   "metadata": {},
   "outputs": [],
   "source": [
    "def calculateMatrixInverse(m: list) -> list:\n",
    "    det = getMatrixDeterminant(m)\n",
    "    inv = np.linalg.inv(m)\n",
    "    inv = (inv * det) % 26\n",
    "    inv = np.round(inv).astype(int)\n",
    "    return inv"
   ]
  },
  {
   "cell_type": "code",
   "execution_count": 7,
   "metadata": {},
   "outputs": [],
   "source": [
    "def gcd(a: int, b: int) -> int:\n",
    "    while b != 0:\n",
    "        t = b\n",
    "        b = a % b\n",
    "        a = t\n",
    "    return a"
   ]
  },
  {
   "cell_type": "code",
   "execution_count": 8,
   "metadata": {},
   "outputs": [],
   "source": [
    "def checkMatrix(m: list) -> bool:\n",
    "    det = getMatrixDeterminant(m)\n",
    "    if det == 0:\n",
    "        return False\n",
    "    coprime = gcd(det, 26)\n",
    "    if coprime != 1:\n",
    "        return False\n",
    "    return True"
   ]
  },
  {
   "cell_type": "code",
   "execution_count": 9,
   "metadata": {},
   "outputs": [],
   "source": [
    "def hill_cipher(plain_text, key):\n",
    "    n = len(key)\n",
    "    cipher_text = \"\"\n",
    "    if len(plain_text) % n != 0:\n",
    "        plain_text += \"X\" * (n - len(plain_text) % n)\n",
    "    plain_text = np.array([alphabet.index(i) for i in plain_text])\n",
    "\n",
    "    for i in range(0, len(plain_text), n):\n",
    "        x = plain_text[i : i + n]\n",
    "        y = np.dot(x, key) % 26\n",
    "        cipher_text += \"\".join([alphabet[i] for i in y])\n",
    "\n",
    "    return cipher_text"
   ]
  },
  {
   "cell_type": "code",
   "execution_count": 10,
   "metadata": {},
   "outputs": [],
   "source": [
    "def hill_decipher(cipher_text, key):\n",
    "    n = len(key)\n",
    "    inverse = calculateMatrixInverse(key)\n",
    "    plain_text = \"\"\n",
    "    if len(cipher_text) % n != 0:\n",
    "        cipher_text += \"X\" * (n - len(cipher_text) % n)\n",
    "    cipher_text = np.array([alphabet.index(i) for i in cipher_text])\n",
    "\n",
    "    for i in range(0, len(cipher_text), n):\n",
    "        x = cipher_text[i : i + n]\n",
    "        y = np.dot(x, inverse) % 26\n",
    "        plain_text += \"\".join([alphabet[i] for i in y])\n",
    "\n",
    "    return plain_text"
   ]
  },
  {
   "cell_type": "code",
   "execution_count": 12,
   "metadata": {},
   "outputs": [
    {
     "name": "stdout",
     "output_type": "stream",
     "text": [
      "Hill's Encryption\n",
      "Select an option: \n",
      "1. Encrypt\n",
      "2. Decrypt\n",
      "Input the key matrix: \n",
      "Invalid input.\n"
     ]
    }
   ],
   "source": [
    "if __name__ == \"__main__\":\n",
    "    try:\n",
    "        print(\"Hill's Encryption\")\n",
    "        print(\"Select an option: \\n1. Encrypt\\n2. Decrypt\")\n",
    "        option = int(input(\"Enter your choice: \"))\n",
    "        if option == 1:\n",
    "            plain_text, key = getValues(\"plain\")\n",
    "\n",
    "            if not checkMatrix(key):\n",
    "                print(\"Matrix is not invertible.\")\n",
    "                exit()\n",
    "\n",
    "            cipher_text = hill_cipher(plain_text, key)\n",
    "            print(f\"Plain text: {cipher_text}\")\n",
    "        elif option == 2:\n",
    "            cipher_text, key = getValues(\"cipher\")\n",
    "\n",
    "            if not checkMatrix(key):\n",
    "                print(\"Matrix is not invertible.\")\n",
    "                exit()\n",
    "\n",
    "            plain_text = hill_decipher(cipher_text, key)\n",
    "            print(f\"Plain text: {plain_text}\")\n",
    "        else:\n",
    "            raise ValueError\n",
    "    except ValueError:\n",
    "        print(\"Invalid input.\")\n",
    "    except Exception as e:\n",
    "        print(\"An error occurred: \", e)"
   ]
  }
 ],
 "metadata": {
  "kernelspec": {
   "display_name": ".venv",
   "language": "python",
   "name": "python3"
  },
  "language_info": {
   "codemirror_mode": {
    "name": "ipython",
    "version": 3
   },
   "file_extension": ".py",
   "mimetype": "text/x-python",
   "name": "python",
   "nbconvert_exporter": "python",
   "pygments_lexer": "ipython3",
   "version": "3.13.0"
  }
 },
 "nbformat": 4,
 "nbformat_minor": 2
}
