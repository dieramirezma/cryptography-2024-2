{
 "cells": [
  {
   "cell_type": "code",
   "execution_count": 1,
   "metadata": {},
   "outputs": [],
   "source": [
    "import random"
   ]
  },
  {
   "cell_type": "code",
   "execution_count": 2,
   "metadata": {},
   "outputs": [],
   "source": [
    "layout = {\n",
    "    \"A\": [9, 12, 33, 47, 53, 67, 78, 92],\n",
    "    \"B\": [48, 81],\n",
    "    \"C\": [13, 41, 62],\n",
    "    \"D\": [1, 3, 45, 79],\n",
    "    \"E\": [14, 16, 24, 44, 46, 55, 57, 64, 74, 82, 87, 98],\n",
    "    \"F\": [10, 31],\n",
    "    \"G\": [6, 25],\n",
    "    \"H\": [23, 39, 50, 56, 65, 68],\n",
    "    \"I\": [32, 70, 73, 83, 88, 93],\n",
    "    \"J\": [15],\n",
    "    \"K\": [4],\n",
    "    \"L\": [26, 37, 51, 84],\n",
    "    \"M\": [22, 27],\n",
    "    \"N\": [18, 58, 59, 66, 71, 91],\n",
    "    \"O\": [0, 5, 7, 54, 72, 90, 99],\n",
    "    \"P\": [38, 95],\n",
    "    \"Q\": [94],\n",
    "    \"R\": [29, 35, 40, 42, 77, 80],\n",
    "    \"S\": [11, 19, 36, 76, 86, 96],\n",
    "    \"T\": [17, 20, 30, 43, 49, 69, 75, 85, 97],\n",
    "    \"U\": [8, 61, 63],\n",
    "    \"V\": [34],\n",
    "    \"W\": [60, 89],\n",
    "    \"X\": [28],\n",
    "    \"Y\": [21, 52],\n",
    "    \"Z\": [2],\n",
    "}"
   ]
  },
  {
   "cell_type": "code",
   "execution_count": 3,
   "metadata": {},
   "outputs": [],
   "source": [
    "def cipher(plain_text):\n",
    "    cihper_text = \"\"\n",
    "    for i in plain_text:\n",
    "        cihper_text += str(random.choice(layout[i])) + \" \"\n",
    "    return cihper_text"
   ]
  },
  {
   "cell_type": "code",
   "execution_count": 4,
   "metadata": {},
   "outputs": [],
   "source": [
    "def decipher(cipher_text):\n",
    "    plain_text = \"\"\n",
    "    for i in cipher_text.strip().split(\" \"):\n",
    "        for key, value in layout.items():\n",
    "            if int(i) in value:\n",
    "                plain_text += str(key)\n",
    "                break\n",
    "    return plain_text"
   ]
  },
  {
   "cell_type": "code",
   "execution_count": 6,
   "metadata": {},
   "outputs": [
    {
     "name": "stdout",
     "output_type": "stream",
     "text": [
      "Homophonic Encryption\n",
      "Select an option: \n",
      "1. Encrypt\n",
      "2. Decrypt\n",
      "Plain text:  HELLO\n"
     ]
    }
   ],
   "source": [
    "if __name__ == \"__main__\":\n",
    "    try:\n",
    "        print(\"Homophonic Encryption\")\n",
    "        print(\"Select an option: \\n1. Encrypt\\n2. Decrypt\")\n",
    "        option = int(input(\"Enter your choice: \"))\n",
    "        if option == 1:\n",
    "            message = input(\"Enter the message: \").upper().replace(\" \", \"\")\n",
    "            print(\"Message: \", message)\n",
    "            cipher_text = cipher(message)\n",
    "            print(\"Cipher text: \", cipher_text)\n",
    "        elif option == 2:\n",
    "            cipher_text = input(\"Enter the cipher text: \")\n",
    "            plain_text = decipher(cipher_text)\n",
    "            print(\"Plain text: \", plain_text)\n",
    "        else:\n",
    "            raise ValueError\n",
    "    except ValueError:\n",
    "        print(\"Invalid input.\")\n",
    "    except Exception as e:\n",
    "        print(\"An error occurred: \", e)"
   ]
  }
 ],
 "metadata": {
  "kernelspec": {
   "display_name": ".venv",
   "language": "python",
   "name": "python3"
  },
  "language_info": {
   "codemirror_mode": {
    "name": "ipython",
    "version": 3
   },
   "file_extension": ".py",
   "mimetype": "text/x-python",
   "name": "python",
   "nbconvert_exporter": "python",
   "pygments_lexer": "ipython3",
   "version": "3.13.0"
  }
 },
 "nbformat": 4,
 "nbformat_minor": 2
}
