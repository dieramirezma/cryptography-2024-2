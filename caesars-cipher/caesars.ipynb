{
 "cells": [
  {
   "cell_type": "code",
   "execution_count": 8,
   "metadata": {},
   "outputs": [],
   "source": [
    "A = \"ABCDEFGHIJKLMNOPQRSTUVWXYZ\""
   ]
  },
  {
   "cell_type": "code",
   "execution_count": 9,
   "metadata": {},
   "outputs": [],
   "source": [
    "def getValues(type):\n",
    "    message = input(f\"Enter the {type} text: \").upper().replace(\" \", \"\")\n",
    "\n",
    "    m = int(input(\"\\nEnter the length of substrings: \"))\n",
    "    k = int(input(\"Enter the number of permutations: \"))\n",
    "\n",
    "    return (message, m, k)"
   ]
  },
  {
   "cell_type": "code",
   "execution_count": 10,
   "metadata": {},
   "outputs": [],
   "source": [
    "def divideString(string, m):\n",
    "    return [string[i : i + m] for i in range(0, len(string), m)]"
   ]
  },
  {
   "cell_type": "code",
   "execution_count": 11,
   "metadata": {},
   "outputs": [],
   "source": [
    "def replaceCharacter(M, k):\n",
    "    n = len(M)\n",
    "\n",
    "    M_list = list(M)\n",
    "\n",
    "    for i in range(n):\n",
    "        A_index = A.index(M_list[i])\n",
    "        M_list[i] = A[(A_index + k) % 26]\n",
    "\n",
    "    return \"\".join(M_list)"
   ]
  },
  {
   "cell_type": "code",
   "execution_count": 12,
   "metadata": {},
   "outputs": [],
   "source": [
    "def encrypt(M, k):\n",
    "    cipher_text = []\n",
    "\n",
    "    for string in M:\n",
    "        cipher_string = replaceCharacter(string, k)\n",
    "        cipher_text.append(cipher_string)\n",
    "\n",
    "    return \" \".join(cipher_text)"
   ]
  },
  {
   "cell_type": "code",
   "execution_count": 13,
   "metadata": {},
   "outputs": [],
   "source": [
    "def decrypt(M, k):\n",
    "    plain_text = []\n",
    "\n",
    "    for string in M:\n",
    "        plain_string = replaceCharacter(string, -k)\n",
    "        plain_text.append(plain_string)\n",
    "\n",
    "    return \" \".join(plain_text)"
   ]
  },
  {
   "cell_type": "code",
   "execution_count": 14,
   "metadata": {},
   "outputs": [
    {
     "name": "stdout",
     "output_type": "stream",
     "text": [
      "Caesar's Encryption\n",
      "Select an option: \n",
      "1. Encrypt\n",
      "2. Decrypt\n",
      "\n",
      "Plain text:  HELLO WORLD\n"
     ]
    }
   ],
   "source": [
    "if __name__ == \"__main__\":\n",
    "    try:\n",
    "        print(\"Caesar's Encryption\")\n",
    "        print(\"Select an option: \\n1. Encrypt\\n2. Decrypt\")\n",
    "        option = int(input(\"Enter your choice: \"))\n",
    "        if option == 1:\n",
    "            plain_text, m, k = getValues(\"plain\")\n",
    "\n",
    "            M = divideString(plain_text, m)\n",
    "            cipher_text = encrypt(M, k)\n",
    "\n",
    "            print(\"\\nCipher text: \", cipher_text)\n",
    "        elif option == 2:\n",
    "            cipher_text, m, k = getValues(\"cipher\")\n",
    "\n",
    "            M = divideString(cipher_text, m)\n",
    "\n",
    "            plain_text = decrypt(M, k)\n",
    "            print(\"\\nPlain text: \", plain_text)\n",
    "        else:\n",
    "            raise ValueError\n",
    "    except ValueError:\n",
    "        print(\"Invalid input.\")\n",
    "    except Exception as e:\n",
    "        print(\"An error occurred: \", e)"
   ]
  }
 ],
 "metadata": {
  "kernelspec": {
   "display_name": ".venv",
   "language": "python",
   "name": "python3"
  },
  "language_info": {
   "codemirror_mode": {
    "name": "ipython",
    "version": 3
   },
   "file_extension": ".py",
   "mimetype": "text/x-python",
   "name": "python",
   "nbconvert_exporter": "python",
   "pygments_lexer": "ipython3",
   "version": "3.13.0"
  }
 },
 "nbformat": 4,
 "nbformat_minor": 2
}
