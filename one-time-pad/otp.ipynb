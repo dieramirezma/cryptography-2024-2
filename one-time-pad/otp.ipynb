{
 "cells": [
  {
   "cell_type": "code",
   "execution_count": 2,
   "metadata": {},
   "outputs": [],
   "source": [
    "import random"
   ]
  },
  {
   "cell_type": "code",
   "execution_count": 3,
   "metadata": {},
   "outputs": [],
   "source": [
    "# List of alphabets\n",
    "alphabet_list = list(\"ABCDEFGHIJKLMNOPQRSTUVWXYZ\")"
   ]
  },
  {
   "cell_type": "code",
   "execution_count": 4,
   "metadata": {},
   "outputs": [],
   "source": [
    "# Generate random key\n",
    "def generateKey(length):\n",
    "    return \"\".join([random.choice(alphabet_list) for i in range(length)])"
   ]
  },
  {
   "cell_type": "code",
   "execution_count": 5,
   "metadata": {},
   "outputs": [],
   "source": [
    "# OTP encryption\n",
    "def encrypt(plain_text, key):\n",
    "    plain_text_indexes = []\n",
    "    key_indexes = []\n",
    "\n",
    "    # Get the index of each character of the plain text and key\n",
    "    for i in range(len(plain_text)):\n",
    "        plain_text_indexes.append(alphabet_list.index(plain_text[i]))\n",
    "        key_indexes.append(alphabet_list.index(key[i]))\n",
    "\n",
    "    # Sum indexes and apply modulo 26\n",
    "    cipher_text_indexes = [\n",
    "        (a + b) % 26 for a, b in zip(plain_text_indexes, key_indexes)\n",
    "    ]\n",
    "\n",
    "    # Get the character from the index\n",
    "    return \"\".join([alphabet_list[index] for index in cipher_text_indexes])"
   ]
  },
  {
   "cell_type": "code",
   "execution_count": 6,
   "metadata": {},
   "outputs": [],
   "source": [
    "# OTP decryption\n",
    "def decrypt(cipher_text, key):\n",
    "    cipher_text_indexes = []\n",
    "    key_indexes = []\n",
    "\n",
    "    for i in range(len(cipher_text)):\n",
    "        cipher_text_indexes.append(alphabet_list.index(cipher_text[i]))\n",
    "        key_indexes.append(alphabet_list.index(key[i]))\n",
    "\n",
    "    # Substrract indexes and apply modulo 26\n",
    "    plain_text_indexes = [\n",
    "        (a - b) % 26 for a, b in zip(cipher_text_indexes, key_indexes)\n",
    "    ]\n",
    "\n",
    "    return \"\".join([alphabet_list[index] for index in plain_text_indexes])"
   ]
  },
  {
   "cell_type": "code",
   "execution_count": 7,
   "metadata": {},
   "outputs": [
    {
     "name": "stdout",
     "output_type": "stream",
     "text": [
      "One Time Pad Encryption\n",
      "Select an option: \n",
      "1. Encrypt\n",
      "2. Decrypt\n",
      "Message:  HOLAMUNDO\n",
      "Key:  GLETNIBTD\n",
      "Cipher text:  NZPTZCOWR\n"
     ]
    }
   ],
   "source": [
    "if __name__ == \"__main__\":\n",
    "    try:\n",
    "        print(\"One Time Pad Encryption\")\n",
    "        print(\"Select an option: \\n1. Encrypt\\n2. Decrypt\")\n",
    "        option = int(input(\"Enter your choice: \"))\n",
    "        if option == 1:\n",
    "            message = input(\"Enter the message: \").upper().replace(\" \", \"\")\n",
    "            print(\"Message: \", message)\n",
    "            key = generateKey(len(message))\n",
    "            print(\"Key: \", key)\n",
    "            cipher_text = encrypt(message, key)\n",
    "            print(\"Cipher text: \", cipher_text)\n",
    "        elif option == 2:\n",
    "            cipher_text = input(\"Enter the cipher text: \").replace(\" \", \"\")\n",
    "            key = input(\"Enter the key: \").replace(\" \", \"\")\n",
    "            plain_text = decrypt(cipher_text, key)\n",
    "            print(\"Plain text: \", plain_text)\n",
    "        else:\n",
    "            raise ValueError\n",
    "    except ValueError:\n",
    "        print(\"Invalid input.\")\n",
    "    except Exception as e:\n",
    "        print(\"An error occurred: \", e)"
   ]
  }
 ],
 "metadata": {
  "kernelspec": {
   "display_name": ".venv",
   "language": "python",
   "name": "python3"
  },
  "language_info": {
   "codemirror_mode": {
    "name": "ipython",
    "version": 3
   },
   "file_extension": ".py",
   "mimetype": "text/x-python",
   "name": "python",
   "nbconvert_exporter": "python",
   "pygments_lexer": "ipython3",
   "version": "3.13.0"
  }
 },
 "nbformat": 4,
 "nbformat_minor": 2
}
