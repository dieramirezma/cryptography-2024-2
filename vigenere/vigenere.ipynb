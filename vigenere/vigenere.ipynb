{
 "cells": [
  {
   "cell_type": "code",
   "execution_count": 1,
   "metadata": {},
   "outputs": [],
   "source": [
    "alphabet = \"ABCDEFGHIJKLMNOPQRSTUVWXYZ\""
   ]
  },
  {
   "cell_type": "code",
   "execution_count": 2,
   "metadata": {},
   "outputs": [],
   "source": [
    "def getValues(type):\n",
    "    message = input(f\"Enter the {type} text: \").upper().replace(\" \", \"\")\n",
    "\n",
    "    k = input(\"Enter the key: \").upper().replace(\" \", \"\")\n",
    "\n",
    "    m = int(input(\"\\nEnter the length of substrings: \"))\n",
    "\n",
    "    return (message, k, m)"
   ]
  },
  {
   "cell_type": "code",
   "execution_count": 3,
   "metadata": {},
   "outputs": [],
   "source": [
    "def createMatrix():\n",
    "    matrix = []\n",
    "\n",
    "    for i in range(len(alphabet)):\n",
    "        matrix.append(alphabet[i:] + alphabet[:i])\n",
    "\n",
    "    return matrix"
   ]
  },
  {
   "cell_type": "code",
   "execution_count": 4,
   "metadata": {},
   "outputs": [],
   "source": [
    "def divideString(string, m):\n",
    "    return [string[i : i + m] for i in range(0, len(string), m)]"
   ]
  },
  {
   "cell_type": "code",
   "execution_count": 5,
   "metadata": {},
   "outputs": [],
   "source": [
    "def generateKeyList(key, n):\n",
    "    key_list = \"\"\n",
    "\n",
    "    for i in range(n):\n",
    "        key_list += key[i % len(key)]\n",
    "\n",
    "    return key_list"
   ]
  },
  {
   "cell_type": "code",
   "execution_count": 6,
   "metadata": {},
   "outputs": [],
   "source": [
    "def encrypt(plain_text, matrix, key):\n",
    "    cipher_text = \"\"\n",
    "\n",
    "    for plain_str, key_str in zip(plain_text, key):\n",
    "        division = \"\"\n",
    "        for index in range(5):\n",
    "            i = alphabet.index(key_str[index])\n",
    "            j = alphabet.index(plain_str[index])\n",
    "            division += matrix[i][j]\n",
    "        cipher_text += division + \" \"\n",
    "\n",
    "    return cipher_text"
   ]
  },
  {
   "cell_type": "code",
   "execution_count": 7,
   "metadata": {},
   "outputs": [],
   "source": [
    "def decrypt(cipher_text, matrix, key):\n",
    "    plain_text = \"\"\n",
    "\n",
    "    for cipher_str, key_str in zip(cipher_text, key):\n",
    "        division = \"\"\n",
    "        for index in range(5):\n",
    "            i = alphabet.index(key_str[index])\n",
    "            j = matrix[i].index(cipher_str[index])\n",
    "            division += alphabet[j]\n",
    "        plain_text += division + \" \"\n",
    "\n",
    "    return plain_text"
   ]
  },
  {
   "cell_type": "code",
   "execution_count": 10,
   "metadata": {},
   "outputs": [
    {
     "name": "stdout",
     "output_type": "stream",
     "text": [
      "Vigenere's Encryption\n",
      "Select an option: \n",
      "1. Encrypt\n",
      "2. Decrypt\n",
      "\n",
      "HELLO HELLO\n",
      "OIWWC DSCWR\n",
      "\n",
      "Plain text:  HELLO WORLD \n"
     ]
    }
   ],
   "source": [
    "if __name__ == \"__main__\":\n",
    "    try:\n",
    "        print(\"Vigenere's Encryption\")\n",
    "        print(\"Select an option: \\n1. Encrypt\\n2. Decrypt\")\n",
    "        option = int(input(\"Enter your choice: \"))\n",
    "        matrix = createMatrix()\n",
    "        if option == 1:\n",
    "            plain_text, k, m = getValues(\"plain\")\n",
    "\n",
    "            M = divideString(plain_text, m)\n",
    "\n",
    "            key_extended = generateKeyList(k, len(plain_text))\n",
    "            key = divideString(key_extended, m)\n",
    "\n",
    "            cipher_text = encrypt(M, matrix, key)\n",
    "\n",
    "            print()\n",
    "            print(\" \".join(key))\n",
    "            print(\" \".join(M))\n",
    "\n",
    "            print(\"\\nCipher text: \", cipher_text)\n",
    "        elif option == 2:\n",
    "            cipher_text, k, m = getValues(\"cipher\")\n",
    "\n",
    "            M = divideString(cipher_text, m)\n",
    "\n",
    "            key_extended = generateKeyList(k, len(cipher_text))\n",
    "            key = divideString(key_extended, m)\n",
    "\n",
    "            plain_text = decrypt(M, matrix, key)\n",
    "\n",
    "            print()\n",
    "\n",
    "            print(\" \".join(key))\n",
    "            print(\" \".join(M))\n",
    "\n",
    "            print(\"\\nPlain text: \", plain_text)\n",
    "        else:\n",
    "            raise ValueError\n",
    "    except ValueError:\n",
    "        print(\"Invalid input.\")\n",
    "    except Exception as e:\n",
    "        print(\"An error occurred: \", e)"
   ]
  }
 ],
 "metadata": {
  "kernelspec": {
   "display_name": ".venv",
   "language": "python",
   "name": "python3"
  },
  "language_info": {
   "codemirror_mode": {
    "name": "ipython",
    "version": 3
   },
   "file_extension": ".py",
   "mimetype": "text/x-python",
   "name": "python",
   "nbconvert_exporter": "python",
   "pygments_lexer": "ipython3",
   "version": "3.13.0"
  }
 },
 "nbformat": 4,
 "nbformat_minor": 2
}
