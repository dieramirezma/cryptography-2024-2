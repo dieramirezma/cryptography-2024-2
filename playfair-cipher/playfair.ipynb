{
 "cells": [
  {
   "cell_type": "code",
   "execution_count": 1,
   "metadata": {},
   "outputs": [],
   "source": [
    "alphabet = \"ABCDEFGHIKLMNOPQRSTUVWXYZ\""
   ]
  },
  {
   "cell_type": "code",
   "execution_count": 2,
   "metadata": {},
   "outputs": [],
   "source": [
    "def getValues(type):\n",
    "    message = input(f\"Enter the {type} text: \").upper()\n",
    "\n",
    "    k = input(\"Enter the key: \").upper().replace(\" \", \"\")\n",
    "\n",
    "    return (message, k)"
   ]
  },
  {
   "cell_type": "code",
   "execution_count": 3,
   "metadata": {},
   "outputs": [],
   "source": [
    "def createMatrix(key):\n",
    "    elements = key.replace(\"J\", \"I\") + alphabet\n",
    "    elements = list(dict.fromkeys(elements))\n",
    "    matrix = [elements[i : i + 5] for i in range(0, len(elements), 5)]\n",
    "    return matrix, elements"
   ]
  },
  {
   "cell_type": "code",
   "execution_count": 4,
   "metadata": {},
   "outputs": [],
   "source": [
    "def replaceRepeated(string):\n",
    "    string_list = list(string)\n",
    "    for i in range(len(string)):\n",
    "        if string_list[i] == string_list[i - 1] and string_list[i] != \"X\":\n",
    "            string_list.insert(i, \"X\")\n",
    "    if len(string_list) % 2 != 0:\n",
    "        string_list.append(\"X\")\n",
    "\n",
    "    return \"\".join(string_list).replace(\" \", \"\")"
   ]
  },
  {
   "cell_type": "code",
   "execution_count": 5,
   "metadata": {},
   "outputs": [],
   "source": [
    "def printMatrix(matrix):\n",
    "    for row in matrix:\n",
    "        print(row)"
   ]
  },
  {
   "cell_type": "code",
   "execution_count": 6,
   "metadata": {},
   "outputs": [],
   "source": [
    "def cipher(plaint_text, key):\n",
    "    cipher_matrix, cipher_list = createMatrix(key)\n",
    "    plain_text_list = replaceRepeated(plaint_text)\n",
    "\n",
    "    plaint_text = \"\"\n",
    "    cipher_text = \"\"\n",
    "\n",
    "    for i in range(0, len(plain_text_list), 2):\n",
    "        first_index = cipher_list.index(plain_text_list[i])\n",
    "        plaint_text += f\"{plain_text_list[i]}{plain_text_list[i + 1]} \"\n",
    "        second_index = cipher_list.index(plain_text_list[i + 1])\n",
    "\n",
    "        row_1 = first_index // 5\n",
    "        row_2 = second_index // 5\n",
    "        col_1 = first_index % 5\n",
    "        col_2 = second_index % 5\n",
    "\n",
    "        if row_1 == row_2:\n",
    "            cipher_text += f\"{cipher_list[(first_index + 1) % (5 * (row_1 + 1))]}{cipher_list[(second_index + 1) % (5 * (row_1 + 1))]} \"\n",
    "        elif col_1 == col_2:\n",
    "            cipher_text += f\"{cipher_list[(first_index + 5) % 25]}{cipher_list[(second_index + 5) % 25]} \"\n",
    "        else:\n",
    "            dif_row = row_1 - row_2\n",
    "            if dif_row > 0:\n",
    "                cipher_text += f\"{cipher_list[(second_index + 5*dif_row) % 25]}{cipher_list[(first_index - 5*dif_row) % 25]} \"\n",
    "            else:\n",
    "                cipher_text += f\"{cipher_list[(second_index + 5*dif_row) % 25]}{cipher_list[(first_index - 5*dif_row) % 25]} \"\n",
    "\n",
    "    return plaint_text, cipher_text"
   ]
  },
  {
   "cell_type": "code",
   "execution_count": 7,
   "metadata": {},
   "outputs": [],
   "source": [
    "def decipher(cipher_text, key):\n",
    "    cipher_matrix, cipher_list = createMatrix(key)\n",
    "\n",
    "    cipher_text_list = cipher_text.replace(\" \", \"\")\n",
    "    plain_text = \"\"\n",
    "    cipher_text = \"\"\n",
    "\n",
    "    for i in range(0, len(cipher_text_list), 2):\n",
    "        first_index = cipher_list.index(cipher_text_list[i])\n",
    "        second_index = cipher_list.index(cipher_text_list[i + 1])\n",
    "\n",
    "        cipher_text += f\"{cipher_text_list[i]}{cipher_text_list[i + 1]} \"\n",
    "\n",
    "        row_1 = first_index // 5\n",
    "        row_2 = second_index // 5\n",
    "        col_1 = first_index % 5\n",
    "        col_2 = second_index % 5\n",
    "\n",
    "        if row_1 == row_2:\n",
    "            plain_text += f\"{cipher_list[(first_index - 1) % (5 * (row_1 + 1))]}{cipher_list[(second_index - 1) % (5 * (row_1 + 1))]} \"\n",
    "        elif col_1 == col_2:\n",
    "            plain_text += f\"{cipher_list[(first_index - 5) % 25]}{cipher_list[(second_index - 5) % 25]} \"\n",
    "        else:\n",
    "            dif_row = row_1 - row_2\n",
    "            if dif_row > 0:\n",
    "                plain_text += f\"{cipher_list[(second_index + 5*dif_row) % 25]}{cipher_list[(first_index - 5*dif_row) % 25]} \"\n",
    "            else:\n",
    "                plain_text += f\"{cipher_list[(second_index + 5*dif_row) % 25]}{cipher_list[(first_index - 5*dif_row) % 25]} \"\n",
    "\n",
    "    return cipher_text, plain_text"
   ]
  },
  {
   "cell_type": "code",
   "execution_count": 10,
   "metadata": {},
   "outputs": [
    {
     "name": "stdout",
     "output_type": "stream",
     "text": [
      "Playfair Encryption\n",
      "Select an option: \n",
      "1. Encrypt\n",
      "2. Decrypt\n",
      "Cipher text:  ID NV MP \n",
      "Plain text:  HE LX LO \n"
     ]
    }
   ],
   "source": [
    "if __name__ == \"__main__\":\n",
    "    try:\n",
    "        print(\"Playfair Encryption\")\n",
    "        print(\"Select an option: \\n1. Encrypt\\n2. Decrypt\")\n",
    "        option = int(input(\"Enter your choice: \"))\n",
    "        if option == 1:\n",
    "            plain_text, key = getValues(\"plain\")\n",
    "            plain_text_divide, cipher_text = cipher(plain_text, key)\n",
    "\n",
    "            print(\"Plain text: \", plain_text_divide)\n",
    "            print(\"Cipher text: \", cipher_text)\n",
    "        elif option == 2:\n",
    "            cipher_text, key = getValues(\"cipher\")\n",
    "            cipher_text_divide, plain_text = decipher(cipher_text, key)\n",
    "\n",
    "            print(\"Cipher text: \", cipher_text_divide)\n",
    "            print(\"Plain text: \", plain_text)\n",
    "        else:\n",
    "            raise ValueError\n",
    "    except ValueError:\n",
    "        print(\"Invalid input.\")\n",
    "    except Exception as e:\n",
    "        print(\"An error occurred: \", e)"
   ]
  }
 ],
 "metadata": {
  "kernelspec": {
   "display_name": ".venv",
   "language": "python",
   "name": "python3"
  },
  "language_info": {
   "codemirror_mode": {
    "name": "ipython",
    "version": 3
   },
   "file_extension": ".py",
   "mimetype": "text/x-python",
   "name": "python",
   "nbconvert_exporter": "python",
   "pygments_lexer": "ipython3",
   "version": "3.13.0"
  }
 },
 "nbformat": 4,
 "nbformat_minor": 2
}
